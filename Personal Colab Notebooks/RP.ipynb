{
 "cells": [
  {
   "cell_type": "markdown",
   "metadata": {
    "id": "Wnvp7sC2Wo1E"
   },
   "source": [
    "# **Regresión Polinomica en Python**\n",
    "\n",
    "La regresión polinómica utiliza el método de mínimos cuadrados para encontrar la curva polinómica que resulta en la menor suma de errores al cuadrado (RMSE: Root Mean Square Error).\n",
    "\n",
    "La forma general de una regresión polinómica tendrá la forma: $Y = a_0 + a_1X + a_2X^2 + ···+a_nx^n$"
   ]
  },
  {
   "cell_type": "markdown",
   "metadata": {
    "id": "YtOQceBHX9z8"
   },
   "source": [
    "# **Problema a resolver**\n",
    "\n",
    "**Contexto:** Estamos simulando un escenario en el que se está considerando contratar a un nuevo empleado para nuestra empresa. El candidato, en la entrevista inicial, ha mencionado que en su último empleo desempeñaba el rol de Manager Regional y tenía un salario anual de 170.000€. Este ejercicio pretende evaluar su afirmación y establecer una base sólida para una futura negociación salarial.\n",
    "\n"
   ]
  },
  {
   "cell_type": "markdown",
   "metadata": {
    "id": "L-oi14W3Xur2"
   },
   "source": [
    "# **Paso #1: Importamos las librerias necesarias para nuestro proyecto de Machine Learning**"
   ]
  },
  {
   "cell_type": "markdown",
   "metadata": {
    "id": "Gd2MGnMNfeEt"
   },
   "source": [
    "Instalamos la libreria beautifultable"
   ]
  },
  {
   "cell_type": "code",
   "execution_count": 1,
   "metadata": {
    "colab": {
     "base_uri": "https://localhost:8080/"
    },
    "executionInfo": {
     "elapsed": 15935,
     "status": "ok",
     "timestamp": 1700588795182,
     "user": {
      "displayName": "Gero salda",
      "userId": "06132389852214017868"
     },
     "user_tz": 300
    },
    "id": "6_lmJdhmZGlC",
    "outputId": "7cec4836-e8e5-468c-e424-44956af082ad"
   },
   "outputs": [
    {
     "name": "stdout",
     "output_type": "stream",
     "text": [
      "Collecting beautifultable\n",
      "  Downloading beautifultable-1.1.0-py2.py3-none-any.whl (28 kB)\n",
      "Requirement already satisfied: wcwidth in /usr/local/lib/python3.10/dist-packages (from beautifultable) (0.2.10)\n",
      "Installing collected packages: beautifultable\n",
      "Successfully installed beautifultable-1.1.0\n"
     ]
    }
   ],
   "source": [
    "!pip install beautifultable"
   ]
  },
  {
   "cell_type": "code",
   "execution_count": 2,
   "metadata": {
    "executionInfo": {
     "elapsed": 2860,
     "status": "ok",
     "timestamp": 1700588826434,
     "user": {
      "displayName": "Gero salda",
      "userId": "06132389852214017868"
     },
     "user_tz": 300
    },
    "id": "vAkKHUXpWjWa"
   },
   "outputs": [],
   "source": [
    "import numpy as np\n",
    "import pandas as pd\n",
    "\n",
    "import matplotlib.pyplot as plt\n",
    "from beautifultable import BeautifulTable as BT\n",
    "\n",
    "from sklearn.model_selection import train_test_split as separar\n",
    "from sklearn.preprocessing import MinMaxScaler\n",
    "from sklearn.linear_model import LinearRegression as LR\n",
    "from sklearn.preprocessing import PolynomialFeatures as Polinomio\n",
    "from statsmodels.tools.eval_measures import rmse"
   ]
  },
  {
   "cell_type": "markdown",
   "metadata": {
    "id": "xwq45QSaYgFZ"
   },
   "source": [
    "# **Paso #2: Carga de Datos**"
   ]
  },
  {
   "cell_type": "code",
   "execution_count": null,
   "metadata": {
    "colab": {
     "base_uri": "https://localhost:8080/",
     "height": 321
    },
    "executionInfo": {
     "elapsed": 331,
     "status": "error",
     "timestamp": 1700589082615,
     "user": {
      "displayName": "Gero salda",
      "userId": "06132389852214017868"
     },
     "user_tz": 300
    },
    "id": "jcg5gNWoWob_",
    "outputId": "a9da8fb1-dc86-41ed-87fa-5ed20f81c76e"
   },
   "outputs": [],
   "source": [
    "df=pd.read_csv('/content/drive/MyDrive/Simulacion/RP/Salarios2.csv')"
   ]
  },
  {
   "cell_type": "code",
   "execution_count": null,
   "metadata": {
    "colab": {
     "base_uri": "https://localhost:8080/",
     "height": 206
    },
    "id": "hh1r1J7ZZBF3",
    "outputId": "6c2ed937-eb6b-4d85-e1a3-8ea9a013004c"
   },
   "outputs": [
    {
     "data": {
      "text/html": [
       "\n",
       "  <div id=\"df-a410d539-61e7-4946-bf9c-a9ad2a9e3704\" class=\"colab-df-container\">\n",
       "    <div>\n",
       "<style scoped>\n",
       "    .dataframe tbody tr th:only-of-type {\n",
       "        vertical-align: middle;\n",
       "    }\n",
       "\n",
       "    .dataframe tbody tr th {\n",
       "        vertical-align: top;\n",
       "    }\n",
       "\n",
       "    .dataframe thead th {\n",
       "        text-align: right;\n",
       "    }\n",
       "</style>\n",
       "<table border=\"1\" class=\"dataframe\">\n",
       "  <thead>\n",
       "    <tr style=\"text-align: right;\">\n",
       "      <th></th>\n",
       "      <th>Posicion</th>\n",
       "      <th>Nivel</th>\n",
       "      <th>Salario</th>\n",
       "    </tr>\n",
       "  </thead>\n",
       "  <tbody>\n",
       "    <tr>\n",
       "      <th>0</th>\n",
       "      <td>Analista</td>\n",
       "      <td>1</td>\n",
       "      <td>45000</td>\n",
       "    </tr>\n",
       "    <tr>\n",
       "      <th>1</th>\n",
       "      <td>Consultor Junior</td>\n",
       "      <td>2</td>\n",
       "      <td>50000</td>\n",
       "    </tr>\n",
       "    <tr>\n",
       "      <th>2</th>\n",
       "      <td>Consultor Senior</td>\n",
       "      <td>3</td>\n",
       "      <td>60000</td>\n",
       "    </tr>\n",
       "    <tr>\n",
       "      <th>3</th>\n",
       "      <td>Manager</td>\n",
       "      <td>4</td>\n",
       "      <td>80000</td>\n",
       "    </tr>\n",
       "    <tr>\n",
       "      <th>4</th>\n",
       "      <td>Manager General</td>\n",
       "      <td>5</td>\n",
       "      <td>110000</td>\n",
       "    </tr>\n",
       "  </tbody>\n",
       "</table>\n",
       "</div>\n",
       "    <div class=\"colab-df-buttons\">\n",
       "\n",
       "  <div class=\"colab-df-container\">\n",
       "    <button class=\"colab-df-convert\" onclick=\"convertToInteractive('df-a410d539-61e7-4946-bf9c-a9ad2a9e3704')\"\n",
       "            title=\"Convert this dataframe to an interactive table.\"\n",
       "            style=\"display:none;\">\n",
       "\n",
       "  <svg xmlns=\"http://www.w3.org/2000/svg\" height=\"24px\" viewBox=\"0 -960 960 960\">\n",
       "    <path d=\"M120-120v-720h720v720H120Zm60-500h600v-160H180v160Zm220 220h160v-160H400v160Zm0 220h160v-160H400v160ZM180-400h160v-160H180v160Zm440 0h160v-160H620v160ZM180-180h160v-160H180v160Zm440 0h160v-160H620v160Z\"/>\n",
       "  </svg>\n",
       "    </button>\n",
       "\n",
       "  <style>\n",
       "    .colab-df-container {\n",
       "      display:flex;\n",
       "      gap: 12px;\n",
       "    }\n",
       "\n",
       "    .colab-df-convert {\n",
       "      background-color: #E8F0FE;\n",
       "      border: none;\n",
       "      border-radius: 50%;\n",
       "      cursor: pointer;\n",
       "      display: none;\n",
       "      fill: #1967D2;\n",
       "      height: 32px;\n",
       "      padding: 0 0 0 0;\n",
       "      width: 32px;\n",
       "    }\n",
       "\n",
       "    .colab-df-convert:hover {\n",
       "      background-color: #E2EBFA;\n",
       "      box-shadow: 0px 1px 2px rgba(60, 64, 67, 0.3), 0px 1px 3px 1px rgba(60, 64, 67, 0.15);\n",
       "      fill: #174EA6;\n",
       "    }\n",
       "\n",
       "    .colab-df-buttons div {\n",
       "      margin-bottom: 4px;\n",
       "    }\n",
       "\n",
       "    [theme=dark] .colab-df-convert {\n",
       "      background-color: #3B4455;\n",
       "      fill: #D2E3FC;\n",
       "    }\n",
       "\n",
       "    [theme=dark] .colab-df-convert:hover {\n",
       "      background-color: #434B5C;\n",
       "      box-shadow: 0px 1px 3px 1px rgba(0, 0, 0, 0.15);\n",
       "      filter: drop-shadow(0px 1px 2px rgba(0, 0, 0, 0.3));\n",
       "      fill: #FFFFFF;\n",
       "    }\n",
       "  </style>\n",
       "\n",
       "    <script>\n",
       "      const buttonEl =\n",
       "        document.querySelector('#df-a410d539-61e7-4946-bf9c-a9ad2a9e3704 button.colab-df-convert');\n",
       "      buttonEl.style.display =\n",
       "        google.colab.kernel.accessAllowed ? 'block' : 'none';\n",
       "\n",
       "      async function convertToInteractive(key) {\n",
       "        const element = document.querySelector('#df-a410d539-61e7-4946-bf9c-a9ad2a9e3704');\n",
       "        const dataTable =\n",
       "          await google.colab.kernel.invokeFunction('convertToInteractive',\n",
       "                                                    [key], {});\n",
       "        if (!dataTable) return;\n",
       "\n",
       "        const docLinkHtml = 'Like what you see? Visit the ' +\n",
       "          '<a target=\"_blank\" href=https://colab.research.google.com/notebooks/data_table.ipynb>data table notebook</a>'\n",
       "          + ' to learn more about interactive tables.';\n",
       "        element.innerHTML = '';\n",
       "        dataTable['output_type'] = 'display_data';\n",
       "        await google.colab.output.renderOutput(dataTable, element);\n",
       "        const docLink = document.createElement('div');\n",
       "        docLink.innerHTML = docLinkHtml;\n",
       "        element.appendChild(docLink);\n",
       "      }\n",
       "    </script>\n",
       "  </div>\n",
       "\n",
       "\n",
       "<div id=\"df-bfc2ceb9-8ff2-4e4a-8c44-7948b05295b0\">\n",
       "  <button class=\"colab-df-quickchart\" onclick=\"quickchart('df-bfc2ceb9-8ff2-4e4a-8c44-7948b05295b0')\"\n",
       "            title=\"Suggest charts\"\n",
       "            style=\"display:none;\">\n",
       "\n",
       "<svg xmlns=\"http://www.w3.org/2000/svg\" height=\"24px\"viewBox=\"0 0 24 24\"\n",
       "     width=\"24px\">\n",
       "    <g>\n",
       "        <path d=\"M19 3H5c-1.1 0-2 .9-2 2v14c0 1.1.9 2 2 2h14c1.1 0 2-.9 2-2V5c0-1.1-.9-2-2-2zM9 17H7v-7h2v7zm4 0h-2V7h2v10zm4 0h-2v-4h2v4z\"/>\n",
       "    </g>\n",
       "</svg>\n",
       "  </button>\n",
       "\n",
       "<style>\n",
       "  .colab-df-quickchart {\n",
       "      --bg-color: #E8F0FE;\n",
       "      --fill-color: #1967D2;\n",
       "      --hover-bg-color: #E2EBFA;\n",
       "      --hover-fill-color: #174EA6;\n",
       "      --disabled-fill-color: #AAA;\n",
       "      --disabled-bg-color: #DDD;\n",
       "  }\n",
       "\n",
       "  [theme=dark] .colab-df-quickchart {\n",
       "      --bg-color: #3B4455;\n",
       "      --fill-color: #D2E3FC;\n",
       "      --hover-bg-color: #434B5C;\n",
       "      --hover-fill-color: #FFFFFF;\n",
       "      --disabled-bg-color: #3B4455;\n",
       "      --disabled-fill-color: #666;\n",
       "  }\n",
       "\n",
       "  .colab-df-quickchart {\n",
       "    background-color: var(--bg-color);\n",
       "    border: none;\n",
       "    border-radius: 50%;\n",
       "    cursor: pointer;\n",
       "    display: none;\n",
       "    fill: var(--fill-color);\n",
       "    height: 32px;\n",
       "    padding: 0;\n",
       "    width: 32px;\n",
       "  }\n",
       "\n",
       "  .colab-df-quickchart:hover {\n",
       "    background-color: var(--hover-bg-color);\n",
       "    box-shadow: 0 1px 2px rgba(60, 64, 67, 0.3), 0 1px 3px 1px rgba(60, 64, 67, 0.15);\n",
       "    fill: var(--button-hover-fill-color);\n",
       "  }\n",
       "\n",
       "  .colab-df-quickchart-complete:disabled,\n",
       "  .colab-df-quickchart-complete:disabled:hover {\n",
       "    background-color: var(--disabled-bg-color);\n",
       "    fill: var(--disabled-fill-color);\n",
       "    box-shadow: none;\n",
       "  }\n",
       "\n",
       "  .colab-df-spinner {\n",
       "    border: 2px solid var(--fill-color);\n",
       "    border-color: transparent;\n",
       "    border-bottom-color: var(--fill-color);\n",
       "    animation:\n",
       "      spin 1s steps(1) infinite;\n",
       "  }\n",
       "\n",
       "  @keyframes spin {\n",
       "    0% {\n",
       "      border-color: transparent;\n",
       "      border-bottom-color: var(--fill-color);\n",
       "      border-left-color: var(--fill-color);\n",
       "    }\n",
       "    20% {\n",
       "      border-color: transparent;\n",
       "      border-left-color: var(--fill-color);\n",
       "      border-top-color: var(--fill-color);\n",
       "    }\n",
       "    30% {\n",
       "      border-color: transparent;\n",
       "      border-left-color: var(--fill-color);\n",
       "      border-top-color: var(--fill-color);\n",
       "      border-right-color: var(--fill-color);\n",
       "    }\n",
       "    40% {\n",
       "      border-color: transparent;\n",
       "      border-right-color: var(--fill-color);\n",
       "      border-top-color: var(--fill-color);\n",
       "    }\n",
       "    60% {\n",
       "      border-color: transparent;\n",
       "      border-right-color: var(--fill-color);\n",
       "    }\n",
       "    80% {\n",
       "      border-color: transparent;\n",
       "      border-right-color: var(--fill-color);\n",
       "      border-bottom-color: var(--fill-color);\n",
       "    }\n",
       "    90% {\n",
       "      border-color: transparent;\n",
       "      border-bottom-color: var(--fill-color);\n",
       "    }\n",
       "  }\n",
       "</style>\n",
       "\n",
       "  <script>\n",
       "    async function quickchart(key) {\n",
       "      const quickchartButtonEl =\n",
       "        document.querySelector('#' + key + ' button');\n",
       "      quickchartButtonEl.disabled = true;  // To prevent multiple clicks.\n",
       "      quickchartButtonEl.classList.add('colab-df-spinner');\n",
       "      try {\n",
       "        const charts = await google.colab.kernel.invokeFunction(\n",
       "            'suggestCharts', [key], {});\n",
       "      } catch (error) {\n",
       "        console.error('Error during call to suggestCharts:', error);\n",
       "      }\n",
       "      quickchartButtonEl.classList.remove('colab-df-spinner');\n",
       "      quickchartButtonEl.classList.add('colab-df-quickchart-complete');\n",
       "    }\n",
       "    (() => {\n",
       "      let quickchartButtonEl =\n",
       "        document.querySelector('#df-bfc2ceb9-8ff2-4e4a-8c44-7948b05295b0 button');\n",
       "      quickchartButtonEl.style.display =\n",
       "        google.colab.kernel.accessAllowed ? 'block' : 'none';\n",
       "    })();\n",
       "  </script>\n",
       "</div>\n",
       "    </div>\n",
       "  </div>\n"
      ],
      "text/plain": [
       "           Posicion  Nivel  Salario\n",
       "0          Analista      1    45000\n",
       "1  Consultor Junior      2    50000\n",
       "2  Consultor Senior      3    60000\n",
       "3           Manager      4    80000\n",
       "4   Manager General      5   110000"
      ]
     },
     "execution_count": 7,
     "metadata": {},
     "output_type": "execute_result"
    }
   ],
   "source": [
    "df.head()"
   ]
  },
  {
   "cell_type": "markdown",
   "metadata": {
    "id": "GCY3gOl8Zt1O"
   },
   "source": [
    "# **Paso #3: Hacemos una visualización de los datos para analizar el comportamiento de los mismos**"
   ]
  },
  {
   "cell_type": "code",
   "execution_count": null,
   "metadata": {
    "colab": {
     "base_uri": "https://localhost:8080/",
     "height": 465
    },
    "id": "Y2RGfZeNZs7N",
    "outputId": "1ee920e5-a7d9-4b85-e387-800766cbe7d2"
   },
   "outputs": [
    {
     "data": {
      "image/png": "[encoded data removed]",
      "text/plain": [
       "<Figure size 640x480 with 1 Axes>"
      ]
     },
     "metadata": {},
     "output_type": "display_data"
    }
   ],
   "source": [
    "plt.scatter(df['Nivel'], df['Salario'])\n",
    "plt.xlabel('Nivel')\n",
    "plt.ylabel('Salario')\n",
    "plt.show()"
   ]
  },
  {
   "cell_type": "markdown",
   "metadata": {
    "id": "g8ri7VQPaEWQ"
   },
   "source": [
    "Al analizar los datos con el gráfico de dispersión, podemos ver que no tiene una tendencia lineal.\n",
    "\n",
    "**Planteamiento del Problema:** En nuestro análisis de la estructura salarial de la empresa, hemos descubierto una interesante relación polinómica entre el nivel ocupacional de los empleados y su salario. Esta relación polinómica indica que el salario no aumenta de manera uniforme con cada ascenso de nivel. En cambio, observamos que los incrementos salariales varían de forma más compleja y posiblemente más acelerada a medida que los empleados avanzan a niveles superiores.\n",
    "\n",
    "Por ejemplo, mientras que un empleado en un nivel inicial podría experimentar un aumento moderado de salario al pasar al siguiente nivel, los empleados en niveles más altos podrían ver incrementos sustancialmente mayores. Esto se debe a que la relación entre el nivel y el salario no sigue una simple línea recta, sino una curva que refleja cambios más pronunciados en el salario a niveles más altos.\n",
    "\n",
    "Esta relación polinómica puede ser el resultado de varios factores, como la creciente responsabilidad, la escasez de habilidades especializadas y el impacto significativo en la toma de decisiones estratégicas en niveles superiores. Por lo tanto, en nuestra estructura salarial, consideramos importante reconocer no solo la progresión en términos de nivel, sino también la complejidad y el valor crecientes asociados con roles de mayor nivel.\n",
    "\n",
    "Este patrón polinómico subraya la importancia de una estrategia salarial que vaya más allá de los incrementos lineales y considere la creciente contribución y el valor agregado que los empleados aportan en niveles más avanzados de su carrera."
   ]
  },
  {
   "cell_type": "markdown",
   "metadata": {
    "id": "zmdsvNu9b1I1"
   },
   "source": [
    "# **Paso #3: Establecemos las variables independientes y dependientes**"
   ]
  },
  {
   "cell_type": "code",
   "execution_count": null,
   "metadata": {
    "id": "6TzyMjCKbh2J"
   },
   "outputs": [],
   "source": [
    "# 3. Crear variable y respuesta\n",
    "X = df['Nivel'].values.reshape(-1,1) # Como X solo tiene 1 tenemos que 'reshape' para asegurar que siga siendo una matrix (array) y no un vector (-1,)\n",
    "y = df['Salario'].values"
   ]
  },
  {
   "cell_type": "markdown",
   "metadata": {
    "id": "92XOP0rGcD0M"
   },
   "source": [
    "# **Paso #4: Se definen los datos de entrenamiento y de validación**"
   ]
  },
  {
   "cell_type": "markdown",
   "metadata": {
    "id": "14f2qOW2csaf"
   },
   "source": [
    "En nuestro análisis actual, nos enfrentamos a la limitación de tener un conjunto de datos relativamente pequeño, compuesto únicamente por 10 registros. Dada esta cantidad limitada de datos, hemos tomado la decisión de no separarlos en conjuntos de entrenamiento y validación. Esto se debe a que la división de un conjunto de datos tan pequeño podría llevar a subconjuntos que no serían representativos ni suficientes para entrenar y validar efectivamente el modelo.\n",
    "\n",
    "En situaciones donde los datos son escasos, como en nuestro caso, dividir el conjunto de datos puede resultar en que el modelo no tenga suficiente información para aprender adecuadamente las relaciones subyacentes. Además, la validación en un subconjunto muy pequeño podría no proporcionar una evaluación precisa de la capacidad del modelo para generalizar a nuevos datos.\n",
    "\n",
    "Por lo tanto, en este escenario, hemos optado por utilizar todo el conjunto de datos para entrenar nuestro modelo. Aunque esta aproximación tiene sus desventajas, como el potencial de sobreajuste y la incapacidad de evaluar la generalización del modelo de manera independiente, es una decisión práctica dada la cantidad limitada de datos con los que contamos.\n",
    "\n",
    "Para mitigar los riesgos asociados con esta decisión, planeamos emplear técnicas como la validación cruzada, si es posible, y buscamos adquirir más datos en el futuro para permitir una división más tradicional en conjuntos de entrenamiento y validación. Mientras tanto, seremos cautelosos al interpretar los resultados del modelo y consideraremos este contexto al hacer inferencias o tomar decisiones basadas en sus predicciones."
   ]
  },
  {
   "cell_type": "markdown",
   "metadata": {
    "id": "lNUhxS32cfwj"
   },
   "source": [
    "# **Paso #5: Modelamiento**\n",
    "\n",
    "En nuestro proyecto, abordaremos el modelado de los datos mediante un enfoque estructurado en dos fases distintas, cada una con un modelo de regresión específico. Este enfoque metodológico está diseñado para proporcionarnos una comprensión profunda y matizada de las relaciones subyacentes en nuestros datos.\n",
    "\n",
    "Al comparar los resultados de ambas fases, podremos evaluar la adecuación y eficacia de modelos más simples frente a modelos que capturan complejidades mayores. Este enfoque nos permitirá no solo elegir el modelo que mejor se ajuste a nuestros datos, sino también entender la naturaleza de las relaciones que estamos analizando."
   ]
  },
  {
   "cell_type": "markdown",
   "metadata": {
    "id": "vs6Xb3USdhb5"
   },
   "source": [
    "# **Fase 1: Modelo de Regresión Lineal**\n",
    "\n",
    "En la primera fase, implementaremos un modelo de regresión lineal. La razón para comenzar con este modelo es su simplicidad y transparencia. La regresión lineal, al ser un método directo y ampliamente comprendido, nos permitirá establecer una línea de base para la relación entre las variables independientes y la variable dependiente. Esta fase nos proporcionará una visión inicial y nos ayudará a identificar patrones generales y la fuerza de las asociaciones lineales en los datos."
   ]
  },
  {
   "cell_type": "code",
   "execution_count": null,
   "metadata": {
    "colab": {
     "base_uri": "https://localhost:8080/",
     "height": 75
    },
    "id": "28TbaL7NeGM8",
    "outputId": "70488e5b-e698-4a38-b360-472c070e29c8"
   },
   "outputs": [
    {
     "data": {
      "text/html": [
       "<style>#sk-container-id-1 {color: black;background-color: white;}#sk-container-id-1 pre{padding: 0;}#sk-container-id-1 div.sk-toggleable {background-color: white;}#sk-container-id-1 label.sk-toggleable__label {cursor: pointer;display: block;width: 100%;margin-bottom: 0;padding: 0.3em;box-sizing: border-box;text-align: center;}#sk-container-id-1 label.sk-toggleable__label-arrow:before {content: \"▸\";float: left;margin-right: 0.25em;color: #696969;}#sk-container-id-1 label.sk-toggleable__label-arrow:hover:before {color: black;}#sk-container-id-1 div.sk-estimator:hover label.sk-toggleable__label-arrow:before {color: black;}#sk-container-id-1 div.sk-toggleable__content {max-height: 0;max-width: 0;overflow: hidden;text-align: left;background-color: #f0f8ff;}#sk-container-id-1 div.sk-toggleable__content pre {margin: 0.2em;color: black;border-radius: 0.25em;background-color: #f0f8ff;}#sk-container-id-1 input.sk-toggleable__control:checked~div.sk-toggleable__content {max-height: 200px;max-width: 100%;overflow: auto;}#sk-container-id-1 input.sk-toggleable__control:checked~label.sk-toggleable__label-arrow:before {content: \"▾\";}#sk-container-id-1 div.sk-estimator input.sk-toggleable__control:checked~label.sk-toggleable__label {background-color: #d4ebff;}#sk-container-id-1 div.sk-label input.sk-toggleable__control:checked~label.sk-toggleable__label {background-color: #d4ebff;}#sk-container-id-1 input.sk-hidden--visually {border: 0;clip: rect(1px 1px 1px 1px);clip: rect(1px, 1px, 1px, 1px);height: 1px;margin: -1px;overflow: hidden;padding: 0;position: absolute;width: 1px;}#sk-container-id-1 div.sk-estimator {font-family: monospace;background-color: #f0f8ff;border: 1px dotted black;border-radius: 0.25em;box-sizing: border-box;margin-bottom: 0.5em;}#sk-container-id-1 div.sk-estimator:hover {background-color: #d4ebff;}#sk-container-id-1 div.sk-parallel-item::after {content: \"\";width: 100%;border-bottom: 1px solid gray;flex-grow: 1;}#sk-container-id-1 div.sk-label:hover label.sk-toggleable__label {background-color: #d4ebff;}#sk-container-id-1 div.sk-serial::before {content: \"\";position: absolute;border-left: 1px solid gray;box-sizing: border-box;top: 0;bottom: 0;left: 50%;z-index: 0;}#sk-container-id-1 div.sk-serial {display: flex;flex-direction: column;align-items: center;background-color: white;padding-right: 0.2em;padding-left: 0.2em;position: relative;}#sk-container-id-1 div.sk-item {position: relative;z-index: 1;}#sk-container-id-1 div.sk-parallel {display: flex;align-items: stretch;justify-content: center;background-color: white;position: relative;}#sk-container-id-1 div.sk-item::before, #sk-container-id-1 div.sk-parallel-item::before {content: \"\";position: absolute;border-left: 1px solid gray;box-sizing: border-box;top: 0;bottom: 0;left: 50%;z-index: -1;}#sk-container-id-1 div.sk-parallel-item {display: flex;flex-direction: column;z-index: 1;position: relative;background-color: white;}#sk-container-id-1 div.sk-parallel-item:first-child::after {align-self: flex-end;width: 50%;}#sk-container-id-1 div.sk-parallel-item:last-child::after {align-self: flex-start;width: 50%;}#sk-container-id-1 div.sk-parallel-item:only-child::after {width: 0;}#sk-container-id-1 div.sk-dashed-wrapped {border: 1px dashed gray;margin: 0 0.4em 0.5em 0.4em;box-sizing: border-box;padding-bottom: 0.4em;background-color: white;}#sk-container-id-1 div.sk-label label {font-family: monospace;font-weight: bold;display: inline-block;line-height: 1.2em;}#sk-container-id-1 div.sk-label-container {text-align: center;}#sk-container-id-1 div.sk-container {/* jupyter's `normalize.less` sets `[hidden] { display: none; }` but bootstrap.min.css set `[hidden] { display: none !important; }` so we also need the `!important` here to be able to override the default hidden behavior on the sphinx rendered scikit-learn.org. See: https://github.com/scikit-learn/scikit-learn/issues/21755 */display: inline-block !important;position: relative;}#sk-container-id-1 div.sk-text-repr-fallback {display: none;}</style><div id=\"sk-container-id-1\" class=\"sk-top-container\"><div class=\"sk-text-repr-fallback\"><pre>LinearRegression()</pre><b>In a Jupyter environment, please rerun this cell to show the HTML representation or trust the notebook. <br />On GitHub, the HTML representation is unable to render, please try loading this page with nbviewer.org.</b></div><div class=\"sk-container\" hidden><div class=\"sk-item\"><div class=\"sk-estimator sk-toggleable\"><input class=\"sk-toggleable__control sk-hidden--visually\" id=\"sk-estimator-id-1\" type=\"checkbox\" checked><label for=\"sk-estimator-id-1\" class=\"sk-toggleable__label sk-toggleable__label-arrow\">LinearRegression</label><div class=\"sk-toggleable__content\"><pre>LinearRegression()</pre></div></div></div></div></div>"
      ],
      "text/plain": [
       "LinearRegression()"
      ]
     },
     "execution_count": 12,
     "metadata": {},
     "output_type": "execute_result"
    }
   ],
   "source": [
    "regresor_lineal = LR()\n",
    "regresor_lineal.fit(X, y)"
   ]
  },
  {
   "cell_type": "code",
   "execution_count": null,
   "metadata": {
    "colab": {
     "base_uri": "https://localhost:8080/",
     "height": 472
    },
    "id": "4l4JgeXdeUEb",
    "outputId": "a00b5959-04f5-46f5-ff36-9c4e2f362edf"
   },
   "outputs": [
    {
     "data": {
      "image/png": "[encoded data removed]",
      "text/plain": [
       "<Figure size 640x480 with 1 Axes>"
      ]
     },
     "metadata": {},
     "output_type": "display_data"
    }
   ],
   "source": [
    "plt.scatter(X, y, color = 'red')\n",
    "plt.plot(X, regresor_lineal.predict(X), color = 'blue')\n",
    "plt.title('Regresión Lineal')\n",
    "plt.xlabel('Nivel')\n",
    "plt.ylabel('Salario')\n",
    "plt.show()"
   ]
  },
  {
   "cell_type": "markdown",
   "metadata": {
    "id": "1xHz4FRwfx9o"
   },
   "source": [
    "Al observar la gráfica resultante de nuestro modelo de regresión lineal, podemos notar que la línea azul, que representa la mejor línea recta ajustada a través de los datos, no sigue el patrón de los puntos rojos que representan nuestras observaciones reales. La discrepancia entre la línea del modelo y los datos sugiere que la relación entre el 'Nivel' y el 'Salario' no es lineal, y por lo tanto, el modelo de regresión lineal no puede capturar con precisión la naturaleza de esta relación.\n",
    "\n",
    "La regresión lineal asume una relación directa y proporcional entre las variables independiente y dependiente, lo que significa que un aumento en una unidad en el 'Nivel' resultaría en un cambio constante en el 'Salario'. Sin embargo, los puntos de datos indican que el salario aumenta de una manera que no es constante; puede que aumente más rápidamente a medida que el nivel se hace más alto o puede haber otros patrones no lineales en juego.\n",
    "\n",
    "Este tipo de patrón es un indicativo de que necesitamos un modelo más complejo que pueda manejar la no linealidad inherente a nuestros datos. La próxima fase de nuestro análisis, que incluirá un modelo de regresión polinomial, intentará abordar esta limitación. La regresión polinomial nos permitirá modelar relaciones curvilíneas, lo que parece ser más adecuado para los datos que tenemos, como sugieren los puntos que se desvían de la línea recta del modelo lineal actual."
   ]
  },
  {
   "cell_type": "markdown",
   "metadata": {
    "id": "iZIlRa3sdoeF"
   },
   "source": [
    "# **Fase 2: Modelo de Regresión Polinomial**\n",
    "\n",
    "Tras analizar los resultados del modelo lineal, avanzaremos a la segunda fase, donde implementaremos un modelo de regresión polinomial. Esta fase está motivada por la necesidad de explorar relaciones más complejas que posiblemente no se ajusten a un patrón lineal. La regresión polinomial nos permitirá modelar curvas y relaciones no lineales, proporcionando así una comprensión más detallada y posiblemente más precisa de los datos. Esta fase es particularmente crucial si, como sospechamos, las relaciones entre ciertas variables son intrínsecamente no lineales."
   ]
  },
  {
   "cell_type": "markdown",
   "metadata": {
    "id": "vA2qMkVLfH-B"
   },
   "source": [
    "**1. Transformamos las variables**"
   ]
  },
  {
   "cell_type": "code",
   "execution_count": null,
   "metadata": {
    "id": "91Wp9E74evR6"
   },
   "outputs": [],
   "source": [
    "polinomizador = Polinomio(degree=4)\n",
    "X_poli = polinomizador.fit_transform(X)"
   ]
  },
  {
   "cell_type": "markdown",
   "metadata": {
    "id": "AOvOEBjkfRo8"
   },
   "source": [
    "2. Aplicamos el modelo de regresión lineal con la transformación polinomica planteada en el item anterior"
   ]
  },
  {
   "cell_type": "code",
   "execution_count": null,
   "metadata": {
    "colab": {
     "base_uri": "https://localhost:8080/",
     "height": 363
    },
    "id": "NOFqK8lDfGPm",
    "outputId": "9cd38de7-db95-42ba-a58b-d91e3395ff80"
   },
   "outputs": [
    {
     "data": {
      "text/html": [
       "\n",
       "  <div id=\"df-29fbcb74-c521-4f96-8e23-9065d7cc4850\" class=\"colab-df-container\">\n",
       "    <div>\n",
       "<style scoped>\n",
       "    .dataframe tbody tr th:only-of-type {\n",
       "        vertical-align: middle;\n",
       "    }\n",
       "\n",
       "    .dataframe tbody tr th {\n",
       "        vertical-align: top;\n",
       "    }\n",
       "\n",
       "    .dataframe thead th {\n",
       "        text-align: right;\n",
       "    }\n",
       "</style>\n",
       "<table border=\"1\" class=\"dataframe\">\n",
       "  <thead>\n",
       "    <tr style=\"text-align: right;\">\n",
       "      <th></th>\n",
       "      <th>0</th>\n",
       "      <th>1</th>\n",
       "      <th>2</th>\n",
       "      <th>3</th>\n",
       "      <th>4</th>\n",
       "    </tr>\n",
       "  </thead>\n",
       "  <tbody>\n",
       "    <tr>\n",
       "      <th>0</th>\n",
       "      <td>1.0</td>\n",
       "      <td>1.0</td>\n",
       "      <td>1.0</td>\n",
       "      <td>1.0</td>\n",
       "      <td>1.0</td>\n",
       "    </tr>\n",
       "    <tr>\n",
       "      <th>1</th>\n",
       "      <td>1.0</td>\n",
       "      <td>2.0</td>\n",
       "      <td>4.0</td>\n",
       "      <td>8.0</td>\n",
       "      <td>16.0</td>\n",
       "    </tr>\n",
       "    <tr>\n",
       "      <th>2</th>\n",
       "      <td>1.0</td>\n",
       "      <td>3.0</td>\n",
       "      <td>9.0</td>\n",
       "      <td>27.0</td>\n",
       "      <td>81.0</td>\n",
       "    </tr>\n",
       "    <tr>\n",
       "      <th>3</th>\n",
       "      <td>1.0</td>\n",
       "      <td>4.0</td>\n",
       "      <td>16.0</td>\n",
       "      <td>64.0</td>\n",
       "      <td>256.0</td>\n",
       "    </tr>\n",
       "    <tr>\n",
       "      <th>4</th>\n",
       "      <td>1.0</td>\n",
       "      <td>5.0</td>\n",
       "      <td>25.0</td>\n",
       "      <td>125.0</td>\n",
       "      <td>625.0</td>\n",
       "    </tr>\n",
       "    <tr>\n",
       "      <th>5</th>\n",
       "      <td>1.0</td>\n",
       "      <td>6.0</td>\n",
       "      <td>36.0</td>\n",
       "      <td>216.0</td>\n",
       "      <td>1296.0</td>\n",
       "    </tr>\n",
       "    <tr>\n",
       "      <th>6</th>\n",
       "      <td>1.0</td>\n",
       "      <td>7.0</td>\n",
       "      <td>49.0</td>\n",
       "      <td>343.0</td>\n",
       "      <td>2401.0</td>\n",
       "    </tr>\n",
       "    <tr>\n",
       "      <th>7</th>\n",
       "      <td>1.0</td>\n",
       "      <td>8.0</td>\n",
       "      <td>64.0</td>\n",
       "      <td>512.0</td>\n",
       "      <td>4096.0</td>\n",
       "    </tr>\n",
       "    <tr>\n",
       "      <th>8</th>\n",
       "      <td>1.0</td>\n",
       "      <td>9.0</td>\n",
       "      <td>81.0</td>\n",
       "      <td>729.0</td>\n",
       "      <td>6561.0</td>\n",
       "    </tr>\n",
       "    <tr>\n",
       "      <th>9</th>\n",
       "      <td>1.0</td>\n",
       "      <td>10.0</td>\n",
       "      <td>100.0</td>\n",
       "      <td>1000.0</td>\n",
       "      <td>10000.0</td>\n",
       "    </tr>\n",
       "  </tbody>\n",
       "</table>\n",
       "</div>\n",
       "    <div class=\"colab-df-buttons\">\n",
       "\n",
       "  <div class=\"colab-df-container\">\n",
       "    <button class=\"colab-df-convert\" onclick=\"convertToInteractive('df-29fbcb74-c521-4f96-8e23-9065d7cc4850')\"\n",
       "            title=\"Convert this dataframe to an interactive table.\"\n",
       "            style=\"display:none;\">\n",
       "\n",
       "  <svg xmlns=\"http://www.w3.org/2000/svg\" height=\"24px\" viewBox=\"0 -960 960 960\">\n",
       "    <path d=\"M120-120v-720h720v720H120Zm60-500h600v-160H180v160Zm220 220h160v-160H400v160Zm0 220h160v-160H400v160ZM180-400h160v-160H180v160Zm440 0h160v-160H620v160ZM180-180h160v-160H180v160Zm440 0h160v-160H620v160Z\"/>\n",
       "  </svg>\n",
       "    </button>\n",
       "\n",
       "  <style>\n",
       "    .colab-df-container {\n",
       "      display:flex;\n",
       "      gap: 12px;\n",
       "    }\n",
       "\n",
       "    .colab-df-convert {\n",
       "      background-color: #E8F0FE;\n",
       "      border: none;\n",
       "      border-radius: 50%;\n",
       "      cursor: pointer;\n",
       "      display: none;\n",
       "      fill: #1967D2;\n",
       "      height: 32px;\n",
       "      padding: 0 0 0 0;\n",
       "      width: 32px;\n",
       "    }\n",
       "\n",
       "    .colab-df-convert:hover {\n",
       "      background-color: #E2EBFA;\n",
       "      box-shadow: 0px 1px 2px rgba(60, 64, 67, 0.3), 0px 1px 3px 1px rgba(60, 64, 67, 0.15);\n",
       "      fill: #174EA6;\n",
       "    }\n",
       "\n",
       "    .colab-df-buttons div {\n",
       "      margin-bottom: 4px;\n",
       "    }\n",
       "\n",
       "    [theme=dark] .colab-df-convert {\n",
       "      background-color: #3B4455;\n",
       "      fill: #D2E3FC;\n",
       "    }\n",
       "\n",
       "    [theme=dark] .colab-df-convert:hover {\n",
       "      background-color: #434B5C;\n",
       "      box-shadow: 0px 1px 3px 1px rgba(0, 0, 0, 0.15);\n",
       "      filter: drop-shadow(0px 1px 2px rgba(0, 0, 0, 0.3));\n",
       "      fill: #FFFFFF;\n",
       "    }\n",
       "  </style>\n",
       "\n",
       "    <script>\n",
       "      const buttonEl =\n",
       "        document.querySelector('#df-29fbcb74-c521-4f96-8e23-9065d7cc4850 button.colab-df-convert');\n",
       "      buttonEl.style.display =\n",
       "        google.colab.kernel.accessAllowed ? 'block' : 'none';\n",
       "\n",
       "      async function convertToInteractive(key) {\n",
       "        const element = document.querySelector('#df-29fbcb74-c521-4f96-8e23-9065d7cc4850');\n",
       "        const dataTable =\n",
       "          await google.colab.kernel.invokeFunction('convertToInteractive',\n",
       "                                                    [key], {});\n",
       "        if (!dataTable) return;\n",
       "\n",
       "        const docLinkHtml = 'Like what you see? Visit the ' +\n",
       "          '<a target=\"_blank\" href=https://colab.research.google.com/notebooks/data_table.ipynb>data table notebook</a>'\n",
       "          + ' to learn more about interactive tables.';\n",
       "        element.innerHTML = '';\n",
       "        dataTable['output_type'] = 'display_data';\n",
       "        await google.colab.output.renderOutput(dataTable, element);\n",
       "        const docLink = document.createElement('div');\n",
       "        docLink.innerHTML = docLinkHtml;\n",
       "        element.appendChild(docLink);\n",
       "      }\n",
       "    </script>\n",
       "  </div>\n",
       "\n",
       "\n",
       "<div id=\"df-e93184cc-28bc-4166-9e58-f15902e25312\">\n",
       "  <button class=\"colab-df-quickchart\" onclick=\"quickchart('df-e93184cc-28bc-4166-9e58-f15902e25312')\"\n",
       "            title=\"Suggest charts\"\n",
       "            style=\"display:none;\">\n",
       "\n",
       "<svg xmlns=\"http://www.w3.org/2000/svg\" height=\"24px\"viewBox=\"0 0 24 24\"\n",
       "     width=\"24px\">\n",
       "    <g>\n",
       "        <path d=\"M19 3H5c-1.1 0-2 .9-2 2v14c0 1.1.9 2 2 2h14c1.1 0 2-.9 2-2V5c0-1.1-.9-2-2-2zM9 17H7v-7h2v7zm4 0h-2V7h2v10zm4 0h-2v-4h2v4z\"/>\n",
       "    </g>\n",
       "</svg>\n",
       "  </button>\n",
       "\n",
       "<style>\n",
       "  .colab-df-quickchart {\n",
       "      --bg-color: #E8F0FE;\n",
       "      --fill-color: #1967D2;\n",
       "      --hover-bg-color: #E2EBFA;\n",
       "      --hover-fill-color: #174EA6;\n",
       "      --disabled-fill-color: #AAA;\n",
       "      --disabled-bg-color: #DDD;\n",
       "  }\n",
       "\n",
       "  [theme=dark] .colab-df-quickchart {\n",
       "      --bg-color: #3B4455;\n",
       "      --fill-color: #D2E3FC;\n",
       "      --hover-bg-color: #434B5C;\n",
       "      --hover-fill-color: #FFFFFF;\n",
       "      --disabled-bg-color: #3B4455;\n",
       "      --disabled-fill-color: #666;\n",
       "  }\n",
       "\n",
       "  .colab-df-quickchart {\n",
       "    background-color: var(--bg-color);\n",
       "    border: none;\n",
       "    border-radius: 50%;\n",
       "    cursor: pointer;\n",
       "    display: none;\n",
       "    fill: var(--fill-color);\n",
       "    height: 32px;\n",
       "    padding: 0;\n",
       "    width: 32px;\n",
       "  }\n",
       "\n",
       "  .colab-df-quickchart:hover {\n",
       "    background-color: var(--hover-bg-color);\n",
       "    box-shadow: 0 1px 2px rgba(60, 64, 67, 0.3), 0 1px 3px 1px rgba(60, 64, 67, 0.15);\n",
       "    fill: var(--button-hover-fill-color);\n",
       "  }\n",
       "\n",
       "  .colab-df-quickchart-complete:disabled,\n",
       "  .colab-df-quickchart-complete:disabled:hover {\n",
       "    background-color: var(--disabled-bg-color);\n",
       "    fill: var(--disabled-fill-color);\n",
       "    box-shadow: none;\n",
       "  }\n",
       "\n",
       "  .colab-df-spinner {\n",
       "    border: 2px solid var(--fill-color);\n",
       "    border-color: transparent;\n",
       "    border-bottom-color: var(--fill-color);\n",
       "    animation:\n",
       "      spin 1s steps(1) infinite;\n",
       "  }\n",
       "\n",
       "  @keyframes spin {\n",
       "    0% {\n",
       "      border-color: transparent;\n",
       "      border-bottom-color: var(--fill-color);\n",
       "      border-left-color: var(--fill-color);\n",
       "    }\n",
       "    20% {\n",
       "      border-color: transparent;\n",
       "      border-left-color: var(--fill-color);\n",
       "      border-top-color: var(--fill-color);\n",
       "    }\n",
       "    30% {\n",
       "      border-color: transparent;\n",
       "      border-left-color: var(--fill-color);\n",
       "      border-top-color: var(--fill-color);\n",
       "      border-right-color: var(--fill-color);\n",
       "    }\n",
       "    40% {\n",
       "      border-color: transparent;\n",
       "      border-right-color: var(--fill-color);\n",
       "      border-top-color: var(--fill-color);\n",
       "    }\n",
       "    60% {\n",
       "      border-color: transparent;\n",
       "      border-right-color: var(--fill-color);\n",
       "    }\n",
       "    80% {\n",
       "      border-color: transparent;\n",
       "      border-right-color: var(--fill-color);\n",
       "      border-bottom-color: var(--fill-color);\n",
       "    }\n",
       "    90% {\n",
       "      border-color: transparent;\n",
       "      border-bottom-color: var(--fill-color);\n",
       "    }\n",
       "  }\n",
       "</style>\n",
       "\n",
       "  <script>\n",
       "    async function quickchart(key) {\n",
       "      const quickchartButtonEl =\n",
       "        document.querySelector('#' + key + ' button');\n",
       "      quickchartButtonEl.disabled = true;  // To prevent multiple clicks.\n",
       "      quickchartButtonEl.classList.add('colab-df-spinner');\n",
       "      try {\n",
       "        const charts = await google.colab.kernel.invokeFunction(\n",
       "            'suggestCharts', [key], {});\n",
       "      } catch (error) {\n",
       "        console.error('Error during call to suggestCharts:', error);\n",
       "      }\n",
       "      quickchartButtonEl.classList.remove('colab-df-spinner');\n",
       "      quickchartButtonEl.classList.add('colab-df-quickchart-complete');\n",
       "    }\n",
       "    (() => {\n",
       "      let quickchartButtonEl =\n",
       "        document.querySelector('#df-e93184cc-28bc-4166-9e58-f15902e25312 button');\n",
       "      quickchartButtonEl.style.display =\n",
       "        google.colab.kernel.accessAllowed ? 'block' : 'none';\n",
       "    })();\n",
       "  </script>\n",
       "</div>\n",
       "    </div>\n",
       "  </div>\n"
      ],
      "text/plain": [
       "     0     1      2       3        4\n",
       "0  1.0   1.0    1.0     1.0      1.0\n",
       "1  1.0   2.0    4.0     8.0     16.0\n",
       "2  1.0   3.0    9.0    27.0     81.0\n",
       "3  1.0   4.0   16.0    64.0    256.0\n",
       "4  1.0   5.0   25.0   125.0    625.0\n",
       "5  1.0   6.0   36.0   216.0   1296.0\n",
       "6  1.0   7.0   49.0   343.0   2401.0\n",
       "7  1.0   8.0   64.0   512.0   4096.0\n",
       "8  1.0   9.0   81.0   729.0   6561.0\n",
       "9  1.0  10.0  100.0  1000.0  10000.0"
      ]
     },
     "execution_count": 19,
     "metadata": {},
     "output_type": "execute_result"
    }
   ],
   "source": [
    "regresor_polinomico = LR()\n",
    "regresor_polinomico.fit(X_poli, y)\n",
    "pd.DataFrame(X_poli).head(10)"
   ]
  },
  {
   "cell_type": "markdown",
   "metadata": {
    "id": "i5owYYOygtky"
   },
   "source": [
    "En el proceso de ajustar un modelo de regresión polinomial a nuestros datos, hemos transformado la variable independiente 'Nivel' utilizando una técnica que expande esta única variable en un conjunto de nuevas variables que representan las potencias de 'Nivel', hasta el grado cuatro. Este enfoque nos permite modelar una relación más compleja entre 'Nivel' y 'Salario' que no se limita a una línea recta.\n",
    "\n",
    "Concretamente, al generar un polinomio de grado 4, creamos términos para 'Nivel' elevado a la potencia de 0, 1, 2, 3 y 4. El término de grado 0 corresponde a la potencia cero de cualquier número, que siempre es 1, y actúa como el término constante en nuestro modelo polinómico. Los términos de grado 1 a 4 representan 'Nivel' elevado a esa potencia específica, permitiendo que el modelo capture tendencias cuadráticas, cúbicas y cuárticas en los datos.\n",
    "\n",
    "Por lo tanto, cada columna de nuestro conjunto de datos transformado corresponde a uno de estos términos polinómicos:\n",
    "\n",
    "* Columna 0: Término constante ($Nivel^0$)\n",
    "* Columna 1: Relación lineal ($Nivel^1$)\n",
    "* Columna 2: Relación cuadrática ($Nivel^2$)\n",
    "* Columna 3: Relación cúbica ($Nivel^3$)\n",
    "* Columna 4: Relación cuártica ($Nivel^4$)\n",
    "\n",
    "Este conjunto expandido de variables es lo que nuestro modelo de regresión polinomial utilizará para ajustarse a los datos, permitiendo un ajuste más flexible que puede adaptarse a las no linealidades observadas y proporcionar un modelo que refleje de manera más precisa la complejidad del comportamiento del 'Salario' en función del 'Nivel'."
   ]
  },
  {
   "cell_type": "markdown",
   "metadata": {
    "id": "zSRxdWhJgVTO"
   },
   "source": [
    "**Gráfica de la función polinomica**"
   ]
  },
  {
   "cell_type": "code",
   "execution_count": null,
   "metadata": {
    "colab": {
     "base_uri": "https://localhost:8080/",
     "height": 472
    },
    "id": "8_Jz2i_CgZyw",
    "outputId": "d5a3fba5-f1ce-4bc3-d666-2a816ff4f1bb"
   },
   "outputs": [
    {
     "data": {
      "image/png": "[encoded data removed]",
      "text/plain": [
       "<Figure size 640x480 with 1 Axes>"
      ]
     },
     "metadata": {},
     "output_type": "display_data"
    }
   ],
   "source": [
    "plt.scatter(X, y, color = 'red')\n",
    "plt.plot(X, regresor_polinomico.predict(X_poli), color = 'blue')\n",
    "plt.title('Regresión Polinomial')\n",
    "plt.xlabel('Nivel')\n",
    "plt.ylabel('Salario')\n",
    "plt.show()"
   ]
  },
  {
   "cell_type": "markdown",
   "metadata": {
    "id": "g7Bi4fzdhLdA"
   },
   "source": [
    "# **Paso #6: Validación del modelo**\n",
    "\n"
   ]
  },
  {
   "cell_type": "code",
   "execution_count": null,
   "metadata": {
    "colab": {
     "base_uri": "https://localhost:8080/"
    },
    "id": "HZzGnOmuhRWu",
    "outputId": "c1c3bcae-43a6-46f7-ea2e-f82a4313da07"
   },
   "outputs": [
    {
     "name": "stdout",
     "output_type": "stream",
     "text": [
      "RMSE Lineal =  16338.873519272613\n",
      "RMSE Polinomico =  1450.3234909626776\n"
     ]
    }
   ],
   "source": [
    "RMSE_Lineal = np.sum(rmse(y, regresor_lineal.predict(X)))/len(y)\n",
    "RMSE_Polinomico = np.sum(rmse(y, regresor_polinomico.predict(X_poli)))/len(y)\n",
    "print('RMSE Lineal = ', RMSE_Lineal)\n",
    "print('RMSE Polinomico = ', RMSE_Polinomico)"
   ]
  },
  {
   "cell_type": "markdown",
   "metadata": {
    "id": "O7xPhpjqiMrd"
   },
   "source": [
    "Al comparar los valores del Error Cuadrático Medio (RMSE) para los modelos de regresión lineal y polinómica, observamos una diferencia significativa en la precisión de las predicciones. El RMSE del modelo de regresión lineal es de 16338.873519272613, mientras que el del modelo polinómico es considerablemente menor, con un valor de 1450.3234909626776.\n",
    "\n",
    "Esta notable reducción en el valor de RMSE para el modelo polinómico indica que las predicciones de este modelo están mucho más cercanas a los valores reales observados. En términos prácticos, el modelo polinómico tiene un promedio de error en sus predicciones que es aproximadamente un orden de magnitud menor que el del modelo lineal. Esto sugiere que el modelo polinómico es capaz de capturar la relación entre las variables 'Nivel' y 'Salario' de una manera mucho más precisa y efectiva.\n",
    "\n",
    "La superioridad del ajuste del modelo polinómico puede deberse a su capacidad para modelar relaciones no lineales y complejas, que no son capturadas por el modelo lineal. Dado que los datos reales a menudo no siguen una tendencia lineal perfecta, el modelo polinómico ofrece una representación más flexible y adecuada de los patrones subyacentes en los datos, lo cual es evidente en el RMSE significativamente más bajo obtenido.\n",
    "\n",
    "Por lo tanto, basándonos en el criterio de minimizar el RMSE, podemos justificar la elección del modelo polinómico sobre el modelo lineal para predecir el 'Salario' basado en el 'Nivel'. Esto nos permite tener mayor confianza en la precisión y fiabilidad de las predicciones realizadas por el modelo polinómico en nuestro contexto de deserción universitaria."
   ]
  },
  {
   "cell_type": "markdown",
   "metadata": {
    "id": "g-B9qN4Ah2uW"
   },
   "source": [
    "# **Conclusiones**"
   ]
  },
  {
   "cell_type": "markdown",
   "metadata": {
    "id": "xF7hH4SOjIg7"
   },
   "source": [
    "Hemos explorado cómo la Regresión Polinómica (RP) modela una relación polinómica entre la variable independiente (predictora) y la variable dependiente (respuesta), utilizando los datos que tenemos en nuestro conjunto de entrenamiento. Esta técnica extiende la funcionalidad de la regresión lineal, permitiéndonos aplicar la función polinómica derivada para realizar predicciones con nuevos datos en nuestro conjunto de validación.\n",
    "\n",
    "Es común encontrar que la dinámica entre las variables en estudio no sigue una trayectoria lineal. En estos casos, un modelo de regresión lineal se queda corto, y un modelo de regresión polinómica puede ofrecer un ajuste mucho más fidedigno a los datos. Sin embargo, es crucial ser conscientes del riesgo de sobreajuste: un modelo excesivamente complejo podría adaptarse demasiado a los datos de entrenamiento, comprometiendo su capacidad para generalizar a nuevos conjuntos de datos. Por lo tanto, mientras buscamos un modelo que se ajuste adecuadamente, también debemos mantener un equilibrio para evitar interpretar el 'ruido' aleatorio como si fuera una señal significativa."
   ]
  },
  {
   "cell_type": "markdown",
   "metadata": {
    "id": "nDj1sFvHjKDn"
   },
   "source": [
    "# **Trabajo Práctico: Análisis de la Relación entre Precio y Velocidad Máxima de Automóviles**\n",
    "\n",
    "## **Objetivos:**\n",
    "El objetivo de este trabajo es aplicar técnicas de regresión para analizar la relación entre el precio de los automóviles (araba_fiyat) y su velocidad máxima (araba_max_hiz). Se explorará tanto la regresión lineal como la polinomial para determinar cuál modelo proporciona el mejor ajuste a los datos proporcionados.\n",
    "\n",
    "## **Datos:**\n",
    "Se les proporcionará un conjunto de datos que incluye los siguientes campos:\n",
    "\n",
    "araba_fiyat: Precio del automóvil (en miles de euros).\n",
    "araba_max_hiz: Velocidad máxima del automóvil (en km/h).\n",
    "Cada fila representa un automóvil diferente con sus respectivas características.\n",
    "\n",
    "## **Instrucciones:**\n",
    "\n",
    "**Exploración de Datos:** Realicen un análisis exploratorio inicial para familiarizarse con los datos. Esto debe incluir estadísticas descriptivas y visualizaciones como gráficos de dispersión.\n",
    "\n",
    "**Modelo de Regresión Lineal:** Implementen un modelo de regresión lineal utilizando araba_fiyat como variable independiente y araba_max_hiz como variable dependiente.\n",
    "\n",
    "**Modelo de Regresión Polinomial:** Construyan un modelo de regresión polinomial y determinen el grado del polinomio que proporciona el mejor ajuste. Consideren la posibilidad de sobreajuste y cómo evitarlo.\n",
    "\n",
    "**Comparación y Evaluación:** Comparen los modelos de regresión lineal y polinomial utilizando métricas apropiadas (como RMSE). Discutan cuál modelo proporciona un mejor ajuste y por qué.\n",
    "\n",
    "**Interpretación y Conclusiones:** Basándose en los resultados, ofrezcan una interpretación de la relación entre el precio y la velocidad máxima de los automóviles. ¿Es lineal o no lineal? ¿Cómo varía la velocidad máxima con el aumento del precio?\n",
    "\n",
    "\n",
    "\n",
    "## **Formato de Entrega:**\n",
    "\n",
    "Jupyter Notebook. Incluir descripción de las actividades e interpretación de resultados\n",
    "\n",
    "## Fecha de Entrega:\n",
    "\n",
    "La fecha límite para la entrega del trabajo es el Lunes 27 de Noviembre.\n"
   ]
  }
 ],
 "metadata": {
  "colab": {
   "provenance": []
  },
  "kernelspec": {
   "display_name": "Python 3",
   "name": "python3"
  },
  "language_info": {
   "name": "python"
  }
 },
 "nbformat": 4,
 "nbformat_minor": 0
}
