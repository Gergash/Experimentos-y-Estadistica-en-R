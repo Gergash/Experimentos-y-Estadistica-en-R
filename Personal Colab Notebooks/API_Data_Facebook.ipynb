{
 "cells": [
  {
   "cell_type": "code",
   "execution_count": 3,
   "metadata": {
    "colab": {
     "base_uri": "https://localhost:8080/"
    },
    "executionInfo": {
     "elapsed": 835,
     "status": "ok",
     "timestamp": 1690126053184,
     "user": {
      "displayName": "Gero salda",
      "userId": "06132389852214017868"
     },
     "user_tz": 300
    },
    "id": "xGrM-YdeEZFI",
    "outputId": "13d81793-19b5-4286-e1a7-20497faaad83"
   },
   "outputs": [
    {
     "name": "stdout",
     "output_type": "stream",
     "text": [
      "Error en la solicitud: 400\n"
     ]
    }
   ],
   "source": [
    "import requests\n",
    "\n",
    "# Reemplaza con tu ID de página y token de acceso\n",
    "page_id = \"gustavovelezr\"\n",
    "access_token = \"EAACenV5KEw4BANpQAaX0Hic7H4B7FVbodG8qKjSUn4lYn7s38YSl4tb3h9B6EfDY6xG7edX98mXdJk0bLwBOR9FOuZA6hFjcqIRjTRihzZBEWMgrZADQec37LBG3sTBonNHf5AKuKpdPFTA3mm5B5DlhRchX2Mky6XC4M4ZByNiL7aN0FIuzBRFu2PGdhah2HzaKVXOTAZCKjAIvl8KeMKvBIotRUM4YZD\"\n",
    "\n",
    "# Construye la URL de la API Graph\n",
    "url = f\"https://graph.facebook.com/{page_id}/feed?access_token={access_token}\"\n",
    "\n",
    "# Realiza la solicitud HTTP GET\n",
    "response = requests.get(url)\n",
    "\n",
    "# Verifica si la solicitud fue exitosa (código de estado 200)\n",
    "if response.status_code == 200:\n",
    "    # Procesa los datos en formato JSON\n",
    "    data = response.json()\n",
    "\n",
    "    # Extrae la información que necesitas\n",
    "    posts = data[\"data\"]\n",
    "    for post in posts:\n",
    "        post_id = post[\"id\"]\n",
    "        message = post.get(\"message\", \"No message\")\n",
    "        created_time = post[\"created_time\"]\n",
    "        likes_count = post[\"likes\"][\"summary\"][\"total_count\"]\n",
    "        comments_count = post[\"comments\"][\"summary\"][\"total_count\"]\n",
    "\n",
    "        print(f\"Post ID: {post_id}\")\n",
    "        print(f\"Message: {message}\")\n",
    "        print(f\"Created Time: {created_time}\")\n",
    "        print(f\"Likes Count: {likes_count}\")\n",
    "        print(f\"Comments Count: {comments_count}\")\n",
    "        print(\"=\" * 30)\n",
    "else:\n",
    "    print(\"Error en la solicitud:\", response.status_code)\n"
   ]
  },
  {
   "cell_type": "code",
   "execution_count": 4,
   "metadata": {
    "colab": {
     "base_uri": "https://localhost:8080/"
    },
    "executionInfo": {
     "elapsed": 191,
     "status": "ok",
     "timestamp": 1690126066202,
     "user": {
      "displayName": "Gero salda",
      "userId": "06132389852214017868"
     },
     "user_tz": 300
    },
    "id": "R0EY0H8lWoO-",
    "outputId": "27fde6e7-dc86-4766-b23a-87049f345939"
   },
   "outputs": [
    {
     "name": "stdout",
     "output_type": "stream",
     "text": [
      "Error en la solicitud: 400\n",
      "Mensaje de error: {'error': {'message': 'Invalid OAuth 2.0 Access Token', 'type': 'OAuthException', 'code': 190, 'error_subcode': 2069032, 'is_transient': False, 'error_user_title': 'No se admite el token de acceso del usuario', 'error_user_msg': 'En la nueva experiencia para páginas, se necesita un token de acceso a la página para esta llamada.', 'fbtrace_id': 'AlKGy9M-zHmpVOz0wEGUTAe'}}\n"
     ]
    }
   ],
   "source": [
    "import requests\n",
    "\n",
    "# Resto del código...\n",
    "\n",
    "if response.status_code == 200:\n",
    "    # Procesa los datos en formato JSON\n",
    "    data = response.json()\n",
    "\n",
    "    # Resto del código...\n",
    "\n",
    "else:\n",
    "    print(\"Error en la solicitud:\", response.status_code)\n",
    "    print(\"Mensaje de error:\", response.json())\n"
   ]
  }
 ],
 "metadata": {
  "colab": {
   "authorship_tag": "ABX9TyOSaUCc1knQkZR28GPVp5hz",
   "provenance": []
  },
  "kernelspec": {
   "display_name": "Python 3",
   "name": "python3"
  },
  "language_info": {
   "name": "python"
  }
 },
 "nbformat": 4,
 "nbformat_minor": 0
}
