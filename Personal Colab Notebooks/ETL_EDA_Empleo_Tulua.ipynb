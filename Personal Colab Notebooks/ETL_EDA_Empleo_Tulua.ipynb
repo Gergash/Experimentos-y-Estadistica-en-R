{
 "cells": [
  {
   "cell_type": "code",
   "execution_count": 2,
   "metadata": {
    "executionInfo": {
     "elapsed": 220,
     "status": "ok",
     "timestamp": 1689019696428,
     "user": {
      "displayName": "Gero salda",
      "userId": "06132389852214017868"
     },
     "user_tz": 300
    },
    "id": "rxFxKVy0Nvrf"
   },
   "outputs": [],
   "source": [
    "import pandas as pd\n",
    "import numpy as np\n",
    "import matplotlib.pyplot as plt\n",
    "import statsmodels.api as sm\n",
    "from scipy import stats\n",
    "from google.colab import files\n",
    "import seaborn as sns\n",
    "from google.colab import files\n",
    "import openpyxl"
   ]
  },
  {
   "cell_type": "code",
   "execution_count": null,
   "metadata": {
    "colab": {
     "base_uri": "https://localhost:8080/"
    },
    "executionInfo": {
     "elapsed": 17155,
     "status": "ok",
     "timestamp": 1689000185348,
     "user": {
      "displayName": "Gero salda",
      "userId": "06132389852214017868"
     },
     "user_tz": 300
    },
    "id": "KKmmxYOrN0U4",
    "outputId": "b9533fbb-2f0f-4046-a4a8-a3729b8c2dae"
   },
   "outputs": [
    {
     "name": "stdout",
     "output_type": "stream",
     "text": [
      "Mounted at /content/drive\n"
     ]
    }
   ],
   "source": [
    "from google.colab import drive\n",
    "\n",
    "# Montar Google Drive\n",
    "drive.mount('/content/drive')\n",
    "\n",
    "# Ruta del archivo en Google Drive\n",
    "ruta_archivo_datos_Fuerza_trabajo_2017 = '/content/drive/MyDrive/Campaña/Etapa 2/Empleo/2017/Enero.csv/Área - Fuerza de trabajo.csv'"
   ]
  },
  {
   "cell_type": "code",
   "execution_count": null,
   "metadata": {
    "colab": {
     "base_uri": "https://localhost:8080/"
    },
    "executionInfo": {
     "elapsed": 1511,
     "status": "ok",
     "timestamp": 1689000189149,
     "user": {
      "displayName": "Gero salda",
      "userId": "06132389852214017868"
     },
     "user_tz": 300
    },
    "id": "_GCXeWTGq_lk",
    "outputId": "a2858a0c-efc7-488d-e56c-e9a99dbee356"
   },
   "outputs": [
    {
     "name": "stdout",
     "output_type": "stream",
     "text": [
      "Drive already mounted at /content/drive; to attempt to forcibly remount, call drive.mount(\"/content/drive\", force_remount=True).\n"
     ]
    }
   ],
   "source": [
    "from google.colab import drive\n",
    "\n",
    "# Montar Google Drive\n",
    "drive.mount('/content/drive')\n",
    "\n",
    "# Ruta del archivo en Google Drive\n",
    "ruta_archivo_datos_Desocupados_2017 = '/content/drive/MyDrive/Campaña/Etapa 2/Empleo/2017/Enero.csv/Área - Desocupados.csv'"
   ]
  },
  {
   "cell_type": "code",
   "execution_count": null,
   "metadata": {
    "colab": {
     "base_uri": "https://localhost:8080/"
    },
    "executionInfo": {
     "elapsed": 1600,
     "status": "ok",
     "timestamp": 1689000193435,
     "user": {
      "displayName": "Gero salda",
      "userId": "06132389852214017868"
     },
     "user_tz": 300
    },
    "id": "YqIgwXg8mEqN",
    "outputId": "f2138ec6-45f2-4902-816b-affc33e42228"
   },
   "outputs": [
    {
     "name": "stdout",
     "output_type": "stream",
     "text": [
      "Drive already mounted at /content/drive; to attempt to forcibly remount, call drive.mount(\"/content/drive\", force_remount=True).\n"
     ]
    }
   ],
   "source": [
    "from google.colab import drive\n",
    "\n",
    "# Montar Google Drive\n",
    "drive.mount('/content/drive')\n",
    "\n",
    "# Ruta del archivo en Google Drive\n",
    "ruta_archivo_datos_caracte_generales_2017 = '/content/drive/MyDrive/Campaña/Etapa 2/Empleo/2017/Enero.csv/Área - Características generales (Personas).csv'"
   ]
  },
  {
   "cell_type": "code",
   "execution_count": null,
   "metadata": {
    "colab": {
     "base_uri": "https://localhost:8080/"
    },
    "executionInfo": {
     "elapsed": 1456,
     "status": "ok",
     "timestamp": 1689000196378,
     "user": {
      "displayName": "Gero salda",
      "userId": "06132389852214017868"
     },
     "user_tz": 300
    },
    "id": "3Ee2gFcTUN20",
    "outputId": "7484856b-5a18-4114-a53b-5f2f4ab97434"
   },
   "outputs": [
    {
     "name": "stdout",
     "output_type": "stream",
     "text": [
      "Drive already mounted at /content/drive; to attempt to forcibly remount, call drive.mount(\"/content/drive\", force_remount=True).\n"
     ]
    }
   ],
   "source": [
    "from google.colab import drive\n",
    "\n",
    "# Montar Google Drive\n",
    "drive.mount('/content/drive')\n",
    "\n",
    "# Ruta del archivo en Google Drive\n",
    "ruta_archivo_datos_Fuerza_trabajo_2021 = '/content/drive/MyDrive/Campaña/Etapa 2/Empleo/2021/Enero.csv/Área - Fuerza de trabajo.csv'"
   ]
  },
  {
   "cell_type": "code",
   "execution_count": null,
   "metadata": {
    "colab": {
     "base_uri": "https://localhost:8080/"
    },
    "executionInfo": {
     "elapsed": 1687,
     "status": "ok",
     "timestamp": 1689000200563,
     "user": {
      "displayName": "Gero salda",
      "userId": "06132389852214017868"
     },
     "user_tz": 300
    },
    "id": "UIlxTN8UrR4_",
    "outputId": "72907297-8c39-48b0-ca85-d980c50f7436"
   },
   "outputs": [
    {
     "name": "stdout",
     "output_type": "stream",
     "text": [
      "Drive already mounted at /content/drive; to attempt to forcibly remount, call drive.mount(\"/content/drive\", force_remount=True).\n"
     ]
    }
   ],
   "source": [
    "from google.colab import drive\n",
    "\n",
    "# Montar Google Drive\n",
    "drive.mount('/content/drive')\n",
    "\n",
    "# Ruta del archivo en Google Drive\n",
    "ruta_archivo_datos_Desocupados_2021 = '/content/drive/MyDrive/Campaña/Etapa 2/Empleo/2021/Enero.csv/Área - Desocupados.csv'"
   ]
  },
  {
   "cell_type": "code",
   "execution_count": null,
   "metadata": {
    "colab": {
     "base_uri": "https://localhost:8080/"
    },
    "executionInfo": {
     "elapsed": 1570,
     "status": "ok",
     "timestamp": 1689000205141,
     "user": {
      "displayName": "Gero salda",
      "userId": "06132389852214017868"
     },
     "user_tz": 300
    },
    "id": "xhdrbDRhnEVc",
    "outputId": "3f4efffb-39cc-4055-9383-32880aab440f"
   },
   "outputs": [
    {
     "name": "stdout",
     "output_type": "stream",
     "text": [
      "Drive already mounted at /content/drive; to attempt to forcibly remount, call drive.mount(\"/content/drive\", force_remount=True).\n"
     ]
    }
   ],
   "source": [
    "from google.colab import drive\n",
    "\n",
    "# Montar Google Drive\n",
    "drive.mount('/content/drive')\n",
    "\n",
    "# Ruta del archivo en Google Drive\n",
    "ruta_archivo_datos_caracte_generales_2021 = '/content/drive/MyDrive/Campaña/Etapa 2/Empleo/2021/Enero.csv/Área - Características generales (Personas).csv'"
   ]
  },
  {
   "cell_type": "code",
   "execution_count": null,
   "metadata": {
    "id": "P1PDxYGsWYBE"
   },
   "outputs": [],
   "source": [
    "# Carga el archivo csv en un DataFrame de pandas\n",
    "df_enero_2017_caracte_generales = pd.read_csv(ruta_archivo_datos_caracte_generales_2017, delimiter=';')\n",
    "\n",
    "# Guarda el DataFrame a un nuevo archivo csv con ',' como separador\n",
    "data_MODI_Fuerza_trabajo_Enero_2017 = df_enero_2017_caracte_generales.to_csv('data_MODI_Fuerza_caracte_generales_2017.csv', index=False, sep=',')"
   ]
  },
  {
   "cell_type": "code",
   "execution_count": null,
   "metadata": {
    "id": "NrvHNqKCm771"
   },
   "outputs": [],
   "source": [
    "# Carga el archivo csv en un DataFrame de pandas\n",
    "df_enero_2017_fuerza_trabajo = pd.read_csv(ruta_archivo_datos_Fuerza_trabajo_2017, delimiter=';')\n",
    "\n",
    "# Guarda el DataFrame a un nuevo archivo csv con ',' como separador\n",
    "data_MODI_Fuerza_trabajo_Enero_2017 = df_enero_2017_fuerza_trabajo.to_csv('data_MODI_Fuerza_trabajo_Enero_2017.csv', index=False, sep=',')"
   ]
  },
  {
   "cell_type": "code",
   "execution_count": null,
   "metadata": {
    "id": "k-Dn2mfZUicT"
   },
   "outputs": [],
   "source": [
    "# Carga el archivo csv en un DataFrame de pandas\n",
    "df_enero_2021_fuerza_trabajo = pd.read_csv(ruta_archivo_datos_Fuerza_trabajo_2021, delimiter=';')\n",
    "\n",
    "# Guarda el DataFrame a un nuevo archivo csv con ',' como separador\n",
    "data_MODI_Fuerza_trabajo_Enero_2021 = df_enero_2021_fuerza_trabajo.to_csv('data_MODI_Fuerza_trabajo_Enero_2021.csv', index=False, sep=',')\n"
   ]
  },
  {
   "cell_type": "code",
   "execution_count": null,
   "metadata": {
    "id": "jYbwilGfAhuv"
   },
   "outputs": [],
   "source": [
    "# Carga el archivo csv en un DataFrame de pandas\n",
    "df_enero_2021_caracte_generales = pd.read_csv(ruta_archivo_datos_caracte_generales_2021, delimiter=';')\n",
    "\n",
    "# Guarda el DataFrame a un nuevo archivo csv con ',' como separador\n",
    "data_MODI_caracte_generales_Enero_2021 = df_enero_2021_caracte_generales.to_csv('data_MODI_Fuerza_caracte_generales_2021.csv', index=False, sep=',')"
   ]
  },
  {
   "cell_type": "code",
   "execution_count": null,
   "metadata": {
    "colab": {
     "base_uri": "https://localhost:8080/"
    },
    "executionInfo": {
     "elapsed": 181,
     "status": "ok",
     "timestamp": 1689000222910,
     "user": {
      "displayName": "Gero salda",
      "userId": "06132389852214017868"
     },
     "user_tz": 300
    },
    "id": "f_ybLAY3WXPc",
    "outputId": "55964c97-5700-4d25-c4fa-2689124b17f0"
   },
   "outputs": [
    {
     "name": "stdout",
     "output_type": "stream",
     "text": [
      "<class 'pandas.core.frame.DataFrame'>\n",
      "RangeIndex: 24584 entries, 0 to 24583\n",
      "Data columns (total 27 columns):\n",
      " #   Column       Non-Null Count  Dtype \n",
      "---  ------       --------------  ----- \n",
      " 0   DIRECTORIO   24584 non-null  int64 \n",
      " 1   SECUENCIA_P  24584 non-null  int64 \n",
      " 2   ORDEN        24584 non-null  int64 \n",
      " 3   HOGAR        24584 non-null  int64 \n",
      " 4   REGIS        24584 non-null  int64 \n",
      " 5   AREA         24584 non-null  int64 \n",
      " 6   P6290        24584 non-null  object\n",
      " 7   P6290S1      24584 non-null  object\n",
      " 8   P6230        24584 non-null  int64 \n",
      " 9   P6240        24584 non-null  int64 \n",
      " 10  P6240S1      24584 non-null  object\n",
      " 11  P6250        24584 non-null  object\n",
      " 12  P6260        24584 non-null  object\n",
      " 13  P6270        24584 non-null  object\n",
      " 14  P6280        24584 non-null  object\n",
      " 15  P6300        24584 non-null  object\n",
      " 16  P6310        24584 non-null  object\n",
      " 17  P6310S1      24584 non-null  object\n",
      " 18  P6320        24584 non-null  object\n",
      " 19  P6330        24584 non-null  object\n",
      " 20  P6340        24584 non-null  object\n",
      " 21  P6350        24584 non-null  object\n",
      " 22  P6351        24584 non-null  object\n",
      " 23  MES          24584 non-null  int64 \n",
      " 24  FT           24584 non-null  int64 \n",
      " 25  DPTO         24584 non-null  int64 \n",
      " 26  fex_c_2011   24584 non-null  object\n",
      "dtypes: int64(11), object(16)\n",
      "memory usage: 5.1+ MB\n"
     ]
    }
   ],
   "source": [
    "df_enero_2017_fuerza_trabajo.info()"
   ]
  },
  {
   "cell_type": "code",
   "execution_count": null,
   "metadata": {
    "colab": {
     "base_uri": "https://localhost:8080/"
    },
    "executionInfo": {
     "elapsed": 534,
     "status": "ok",
     "timestamp": 1688670897749,
     "user": {
      "displayName": "Gero salda",
      "userId": "06132389852214017868"
     },
     "user_tz": 300
    },
    "id": "zNJQ3GXKXUrM",
    "outputId": "ecee756e-260c-429f-d36a-4f676855be21"
   },
   "outputs": [
    {
     "name": "stdout",
     "output_type": "stream",
     "text": [
      "<class 'pandas.core.frame.DataFrame'>\n",
      "RangeIndex: 29570 entries, 0 to 29569\n",
      "Data columns (total 31 columns):\n",
      " #   Column       Non-Null Count  Dtype \n",
      "---  ------       --------------  ----- \n",
      " 0   DIRECTORIO   29570 non-null  int64 \n",
      " 1   SECUENCIA_P  29570 non-null  int64 \n",
      " 2   ORDEN        29570 non-null  int64 \n",
      " 3   HOGAR        29570 non-null  int64 \n",
      " 4   REGIS        29570 non-null  int64 \n",
      " 5   P6016        29570 non-null  int64 \n",
      " 6   P6020        29570 non-null  int64 \n",
      " 7   P6030S1      29570 non-null  object\n",
      " 8   P6030S3      29570 non-null  object\n",
      " 9   P6040        29570 non-null  int64 \n",
      " 10  P6050        29570 non-null  int64 \n",
      " 11  P6070        29570 non-null  object\n",
      " 12  P6090        29570 non-null  int64 \n",
      " 13  P6140        29570 non-null  object\n",
      " 14  P6150        29570 non-null  object\n",
      " 15  P6100        29570 non-null  object\n",
      " 16  P6110        29570 non-null  object\n",
      " 17  P6120        29570 non-null  object\n",
      " 18  P6125        29570 non-null  int64 \n",
      " 19  P6160        29570 non-null  object\n",
      " 20  P6170        29570 non-null  object\n",
      " 21  P6175        29570 non-null  object\n",
      " 22  P6210        29570 non-null  object\n",
      " 23  P6210S1      29570 non-null  object\n",
      " 24  P6220        29570 non-null  object\n",
      " 25  P6269        29570 non-null  object\n",
      " 26  AREA         29570 non-null  int64 \n",
      " 27  ESC          29570 non-null  object\n",
      " 28  MES          29570 non-null  int64 \n",
      " 29  DPTO         29570 non-null  int64 \n",
      " 30  fex_c_2011   29570 non-null  object\n",
      "dtypes: int64(14), object(17)\n",
      "memory usage: 7.0+ MB\n"
     ]
    }
   ],
   "source": [
    "df_enero_2017_caracte_generales.info()"
   ]
  },
  {
   "cell_type": "code",
   "execution_count": null,
   "metadata": {
    "colab": {
     "base_uri": "https://localhost:8080/"
    },
    "executionInfo": {
     "elapsed": 281,
     "status": "ok",
     "timestamp": 1689000645889,
     "user": {
      "displayName": "Gero salda",
      "userId": "06132389852214017868"
     },
     "user_tz": 300
    },
    "id": "hUgXhjvpR_Hi",
    "outputId": "7627b732-1f2d-4cc0-f69f-d74fbc6b36b6"
   },
   "outputs": [
    {
     "name": "stdout",
     "output_type": "stream",
     "text": [
      "<class 'pandas.core.frame.DataFrame'>\n",
      "RangeIndex: 28155 entries, 0 to 28154\n",
      "Data columns (total 52 columns):\n",
      " #   Column       Non-Null Count  Dtype \n",
      "---  ------       --------------  ----- \n",
      " 0   DIRECTORIO   28155 non-null  int64 \n",
      " 1   SECUENCIA_P  28155 non-null  int64 \n",
      " 2   ORDEN        28155 non-null  int64 \n",
      " 3   HOGAR        28155 non-null  int64 \n",
      " 4   REGIS        28155 non-null  int64 \n",
      " 5   P6016        28155 non-null  int64 \n",
      " 6   P6020        28155 non-null  int64 \n",
      " 7   P6030S1      28155 non-null  object\n",
      " 8   P6030S3      28155 non-null  object\n",
      " 9   P6040        28155 non-null  int64 \n",
      " 10  P6050        28155 non-null  int64 \n",
      " 11  P6080        28155 non-null  int64 \n",
      " 12  P6080S1      28155 non-null  object\n",
      " 13  P6070        28155 non-null  object\n",
      " 14  P6081        28155 non-null  int64 \n",
      " 15  P6081S1      28155 non-null  object\n",
      " 16  P6083        28155 non-null  int64 \n",
      " 17  P6083S1      28155 non-null  object\n",
      " 18  P6071        28155 non-null  object\n",
      " 19  P6071S1      28155 non-null  object\n",
      " 20  P3147S1      28155 non-null  object\n",
      " 21  P3147S2      28155 non-null  object\n",
      " 22  P3147S3      28155 non-null  object\n",
      " 23  P3147S4      28155 non-null  object\n",
      " 24  P3147S5      28155 non-null  object\n",
      " 25  P3147S6      28155 non-null  object\n",
      " 26  P3147S7      28155 non-null  object\n",
      " 27  P3147S8      28155 non-null  object\n",
      " 28  P3147S9      28155 non-null  object\n",
      " 29  P3147S10     28155 non-null  object\n",
      " 30  P3147S11     28155 non-null  object\n",
      " 31  P3147S10A1   28155 non-null  object\n",
      " 32  P3246        28155 non-null  object\n",
      " 33  P6090        28155 non-null  int64 \n",
      " 34  P6140        28155 non-null  object\n",
      " 35  P6150        28155 non-null  object\n",
      " 36  P6100        28155 non-null  object\n",
      " 37  P6110        28155 non-null  object\n",
      " 38  P6120        28155 non-null  object\n",
      " 39  P6125        28155 non-null  int64 \n",
      " 40  P6160        28155 non-null  object\n",
      " 41  P6170        28155 non-null  object\n",
      " 42  P6175        28155 non-null  object\n",
      " 43  P6210        28155 non-null  object\n",
      " 44  P6210S1      28155 non-null  object\n",
      " 45  P6220        28155 non-null  object\n",
      " 46  P6269        28155 non-null  object\n",
      " 47  AREA         28155 non-null  int64 \n",
      " 48  ESC          28155 non-null  object\n",
      " 49  MES          28155 non-null  int64 \n",
      " 50  DPTO         28155 non-null  int64 \n",
      " 51  fex_c_2011   28155 non-null  object\n",
      "dtypes: int64(17), object(35)\n",
      "memory usage: 11.2+ MB\n"
     ]
    }
   ],
   "source": [
    "df_enero_2021_caracte_generales.info()"
   ]
  },
  {
   "cell_type": "code",
   "execution_count": null,
   "metadata": {
    "id": "vh1X6kKOp1ZM"
   },
   "outputs": [],
   "source": [
    "# Definir una función para eliminar las filas que no contengan '76' en la columna 'DPTO'\n",
    "def filtrar_por_municipio(data):\n",
    "    data_filtrado = data[data['DPTO'] == 76]\n",
    "    return data_filtrado\n",
    "\n",
    "# Filtrar los DataFrames por el valor 'TULUÁ' en la columna 'MUNICIPIO'\n",
    "data_filtrado_2017_caracte_generales = filtrar_por_municipio(df_enero_2017_caracte_generales)\n",
    "data_filtrado_2017_fuerza_trabajo = filtrar_por_municipio(df_enero_2017_fuerza_trabajo)\n",
    "data_filtrado_2021_caracte_generales = filtrar_por_municipio(df_enero_2021_caracte_generales)\n",
    "data_filtrado_2021_fuerza_trabajo = filtrar_por_municipio(df_enero_2021_fuerza_trabajo)"
   ]
  },
  {
   "cell_type": "code",
   "execution_count": 19,
   "metadata": {
    "colab": {
     "base_uri": "https://localhost:8080/",
     "height": 236
    },
    "executionInfo": {
     "elapsed": 184,
     "status": "ok",
     "timestamp": 1689006590814,
     "user": {
      "displayName": "Gero salda",
      "userId": "06132389852214017868"
     },
     "user_tz": 300
    },
    "id": "w4PbAVoOq24a",
    "outputId": "c7066eb9-177c-4a04-825f-b19bc7110795"
   },
   "outputs": [
    {
     "data": {
      "text/html": [
       "\n",
       "  <div id=\"df-5f29fc89-6b41-4267-bd84-33748dee836d\">\n",
       "    <div class=\"colab-df-container\">\n",
       "      <div>\n",
       "<style scoped>\n",
       "    .dataframe tbody tr th:only-of-type {\n",
       "        vertical-align: middle;\n",
       "    }\n",
       "\n",
       "    .dataframe tbody tr th {\n",
       "        vertical-align: top;\n",
       "    }\n",
       "\n",
       "    .dataframe thead th {\n",
       "        text-align: right;\n",
       "    }\n",
       "</style>\n",
       "<table border=\"1\" class=\"dataframe\">\n",
       "  <thead>\n",
       "    <tr style=\"text-align: right;\">\n",
       "      <th></th>\n",
       "      <th>DIRECTORIO</th>\n",
       "      <th>SECUENCIA_P</th>\n",
       "      <th>ORDEN</th>\n",
       "      <th>HOGAR</th>\n",
       "      <th>REGIS</th>\n",
       "      <th>AREA</th>\n",
       "      <th>P6290</th>\n",
       "      <th>P6290S1</th>\n",
       "      <th>P6230</th>\n",
       "      <th>P6240</th>\n",
       "      <th>...</th>\n",
       "      <th>P6310S1</th>\n",
       "      <th>P6320</th>\n",
       "      <th>P6330</th>\n",
       "      <th>P6340</th>\n",
       "      <th>P6350</th>\n",
       "      <th>P6351</th>\n",
       "      <th>MES</th>\n",
       "      <th>FT</th>\n",
       "      <th>DPTO</th>\n",
       "      <th>fex_c_2011</th>\n",
       "    </tr>\n",
       "  </thead>\n",
       "  <tbody>\n",
       "    <tr>\n",
       "      <th>69</th>\n",
       "      <td>5332846</td>\n",
       "      <td>1</td>\n",
       "      <td>1</td>\n",
       "      <td>1</td>\n",
       "      <td>50</td>\n",
       "      <td>76</td>\n",
       "      <td></td>\n",
       "      <td></td>\n",
       "      <td>1</td>\n",
       "      <td>4</td>\n",
       "      <td>...</td>\n",
       "      <td></td>\n",
       "      <td></td>\n",
       "      <td></td>\n",
       "      <td></td>\n",
       "      <td></td>\n",
       "      <td>1</td>\n",
       "      <td>1</td>\n",
       "      <td>1</td>\n",
       "      <td>76</td>\n",
       "      <td>919,745575915215</td>\n",
       "    </tr>\n",
       "    <tr>\n",
       "      <th>70</th>\n",
       "      <td>5332846</td>\n",
       "      <td>1</td>\n",
       "      <td>2</td>\n",
       "      <td>1</td>\n",
       "      <td>50</td>\n",
       "      <td>76</td>\n",
       "      <td></td>\n",
       "      <td></td>\n",
       "      <td>2</td>\n",
       "      <td>1</td>\n",
       "      <td>...</td>\n",
       "      <td></td>\n",
       "      <td></td>\n",
       "      <td></td>\n",
       "      <td></td>\n",
       "      <td></td>\n",
       "      <td></td>\n",
       "      <td>1</td>\n",
       "      <td>1</td>\n",
       "      <td>76</td>\n",
       "      <td>919,745575915215</td>\n",
       "    </tr>\n",
       "    <tr>\n",
       "      <th>71</th>\n",
       "      <td>5332847</td>\n",
       "      <td>1</td>\n",
       "      <td>1</td>\n",
       "      <td>1</td>\n",
       "      <td>50</td>\n",
       "      <td>76</td>\n",
       "      <td></td>\n",
       "      <td></td>\n",
       "      <td>1</td>\n",
       "      <td>6</td>\n",
       "      <td>...</td>\n",
       "      <td></td>\n",
       "      <td></td>\n",
       "      <td></td>\n",
       "      <td></td>\n",
       "      <td></td>\n",
       "      <td></td>\n",
       "      <td>1</td>\n",
       "      <td>1</td>\n",
       "      <td>76</td>\n",
       "      <td>932,221919012983</td>\n",
       "    </tr>\n",
       "    <tr>\n",
       "      <th>72</th>\n",
       "      <td>5332848</td>\n",
       "      <td>1</td>\n",
       "      <td>1</td>\n",
       "      <td>1</td>\n",
       "      <td>50</td>\n",
       "      <td>76</td>\n",
       "      <td></td>\n",
       "      <td></td>\n",
       "      <td>1</td>\n",
       "      <td>1</td>\n",
       "      <td>...</td>\n",
       "      <td></td>\n",
       "      <td></td>\n",
       "      <td></td>\n",
       "      <td></td>\n",
       "      <td></td>\n",
       "      <td></td>\n",
       "      <td>1</td>\n",
       "      <td>1</td>\n",
       "      <td>76</td>\n",
       "      <td>946,790455308104</td>\n",
       "    </tr>\n",
       "    <tr>\n",
       "      <th>73</th>\n",
       "      <td>5332848</td>\n",
       "      <td>1</td>\n",
       "      <td>2</td>\n",
       "      <td>1</td>\n",
       "      <td>50</td>\n",
       "      <td>76</td>\n",
       "      <td></td>\n",
       "      <td></td>\n",
       "      <td>1</td>\n",
       "      <td>3</td>\n",
       "      <td>...</td>\n",
       "      <td></td>\n",
       "      <td></td>\n",
       "      <td></td>\n",
       "      <td></td>\n",
       "      <td></td>\n",
       "      <td></td>\n",
       "      <td>1</td>\n",
       "      <td>1</td>\n",
       "      <td>76</td>\n",
       "      <td>946,790455308104</td>\n",
       "    </tr>\n",
       "  </tbody>\n",
       "</table>\n",
       "<p>5 rows × 27 columns</p>\n",
       "</div>\n",
       "      <button class=\"colab-df-convert\" onclick=\"convertToInteractive('df-5f29fc89-6b41-4267-bd84-33748dee836d')\"\n",
       "              title=\"Convert this dataframe to an interactive table.\"\n",
       "              style=\"display:none;\">\n",
       "        \n",
       "  <svg xmlns=\"http://www.w3.org/2000/svg\" height=\"24px\"viewBox=\"0 0 24 24\"\n",
       "       width=\"24px\">\n",
       "    <path d=\"M0 0h24v24H0V0z\" fill=\"none\"/>\n",
       "    <path d=\"M18.56 5.44l.94 2.06.94-2.06 2.06-.94-2.06-.94-.94-2.06-.94 2.06-2.06.94zm-11 1L8.5 8.5l.94-2.06 2.06-.94-2.06-.94L8.5 2.5l-.94 2.06-2.06.94zm10 10l.94 2.06.94-2.06 2.06-.94-2.06-.94-.94-2.06-.94 2.06-2.06.94z\"/><path d=\"M17.41 7.96l-1.37-1.37c-.4-.4-.92-.59-1.43-.59-.52 0-1.04.2-1.43.59L10.3 9.45l-7.72 7.72c-.78.78-.78 2.05 0 2.83L4 21.41c.39.39.9.59 1.41.59.51 0 1.02-.2 1.41-.59l7.78-7.78 2.81-2.81c.8-.78.8-2.07 0-2.86zM5.41 20L4 18.59l7.72-7.72 1.47 1.35L5.41 20z\"/>\n",
       "  </svg>\n",
       "      </button>\n",
       "      \n",
       "  <style>\n",
       "    .colab-df-container {\n",
       "      display:flex;\n",
       "      flex-wrap:wrap;\n",
       "      gap: 12px;\n",
       "    }\n",
       "\n",
       "    .colab-df-convert {\n",
       "      background-color: #E8F0FE;\n",
       "      border: none;\n",
       "      border-radius: 50%;\n",
       "      cursor: pointer;\n",
       "      display: none;\n",
       "      fill: #1967D2;\n",
       "      height: 32px;\n",
       "      padding: 0 0 0 0;\n",
       "      width: 32px;\n",
       "    }\n",
       "\n",
       "    .colab-df-convert:hover {\n",
       "      background-color: #E2EBFA;\n",
       "      box-shadow: 0px 1px 2px rgba(60, 64, 67, 0.3), 0px 1px 3px 1px rgba(60, 64, 67, 0.15);\n",
       "      fill: #174EA6;\n",
       "    }\n",
       "\n",
       "    [theme=dark] .colab-df-convert {\n",
       "      background-color: #3B4455;\n",
       "      fill: #D2E3FC;\n",
       "    }\n",
       "\n",
       "    [theme=dark] .colab-df-convert:hover {\n",
       "      background-color: #434B5C;\n",
       "      box-shadow: 0px 1px 3px 1px rgba(0, 0, 0, 0.15);\n",
       "      filter: drop-shadow(0px 1px 2px rgba(0, 0, 0, 0.3));\n",
       "      fill: #FFFFFF;\n",
       "    }\n",
       "  </style>\n",
       "\n",
       "      <script>\n",
       "        const buttonEl =\n",
       "          document.querySelector('#df-5f29fc89-6b41-4267-bd84-33748dee836d button.colab-df-convert');\n",
       "        buttonEl.style.display =\n",
       "          google.colab.kernel.accessAllowed ? 'block' : 'none';\n",
       "\n",
       "        async function convertToInteractive(key) {\n",
       "          const element = document.querySelector('#df-5f29fc89-6b41-4267-bd84-33748dee836d');\n",
       "          const dataTable =\n",
       "            await google.colab.kernel.invokeFunction('convertToInteractive',\n",
       "                                                     [key], {});\n",
       "          if (!dataTable) return;\n",
       "\n",
       "          const docLinkHtml = 'Like what you see? Visit the ' +\n",
       "            '<a target=\"_blank\" href=https://colab.research.google.com/notebooks/data_table.ipynb>data table notebook</a>'\n",
       "            + ' to learn more about interactive tables.';\n",
       "          element.innerHTML = '';\n",
       "          dataTable['output_type'] = 'display_data';\n",
       "          await google.colab.output.renderOutput(dataTable, element);\n",
       "          const docLink = document.createElement('div');\n",
       "          docLink.innerHTML = docLinkHtml;\n",
       "          element.appendChild(docLink);\n",
       "        }\n",
       "      </script>\n",
       "    </div>\n",
       "  </div>\n",
       "  "
      ],
      "text/plain": [
       "    DIRECTORIO  SECUENCIA_P  ORDEN  HOGAR  REGIS  AREA P6290 P6290S1  P6230  \\\n",
       "69     5332846            1      1      1     50    76                    1   \n",
       "70     5332846            1      2      1     50    76                    2   \n",
       "71     5332847            1      1      1     50    76                    1   \n",
       "72     5332848            1      1      1     50    76                    1   \n",
       "73     5332848            1      2      1     50    76                    1   \n",
       "\n",
       "    P6240  ... P6310S1 P6320 P6330 P6340 P6350 P6351 MES FT DPTO  \\\n",
       "69      4  ...                                     1   1  1   76   \n",
       "70      1  ...                                         1  1   76   \n",
       "71      6  ...                                         1  1   76   \n",
       "72      1  ...                                         1  1   76   \n",
       "73      3  ...                                         1  1   76   \n",
       "\n",
       "          fex_c_2011  \n",
       "69  919,745575915215  \n",
       "70  919,745575915215  \n",
       "71  932,221919012983  \n",
       "72  946,790455308104  \n",
       "73  946,790455308104  \n",
       "\n",
       "[5 rows x 27 columns]"
      ]
     },
     "execution_count": 19,
     "metadata": {},
     "output_type": "execute_result"
    }
   ],
   "source": [
    "data_filtrado_2021_fuerza_trabajo.head()"
   ]
  },
  {
   "cell_type": "code",
   "execution_count": 9,
   "metadata": {
    "executionInfo": {
     "elapsed": 216,
     "status": "ok",
     "timestamp": 1689020198020,
     "user": {
      "displayName": "Gero salda",
      "userId": "06132389852214017868"
     },
     "user_tz": 300
    },
    "id": "0-YB4lCGangi"
   },
   "outputs": [],
   "source": [
    "labels = ['Tasa bruta de participacion', 'Tasa Global de participacion', 'Tasa de ocupados', 'Tasa de inactividad', 'Tasa de inactividad juvenil']\n",
    "percentages = [39.14, 46.35, 31.13, 53.65, 58.34]"
   ]
  },
  {
   "cell_type": "code",
   "execution_count": 10,
   "metadata": {
    "colab": {
     "base_uri": "https://localhost:8080/",
     "height": 675
    },
    "executionInfo": {
     "elapsed": 502,
     "status": "ok",
     "timestamp": 1689020201755,
     "user": {
      "displayName": "Gero salda",
      "userId": "06132389852214017868"
     },
     "user_tz": 300
    },
    "id": "gmxzvjCMbJI5",
    "outputId": "7e6b2a6b-e29c-4178-9f0f-1749737a6fb9"
   },
   "outputs": [
    {
     "data": {
      "image/png": "[encoded data removed]",
      "text/plain": [
       "<Figure size 800x800 with 1 Axes>"
      ]
     },
     "metadata": {},
     "output_type": "display_data"
    }
   ],
   "source": [
    "# Gráfico de pie\n",
    "plt.figure(figsize=(8, 8))\n",
    "plt.pie(percentages, labels=labels, autopct='%1.1f%%')\n",
    "plt.title('Porcentajes')\n",
    "plt.show()"
   ]
  },
  {
   "cell_type": "code",
   "execution_count": 5,
   "metadata": {
    "colab": {
     "base_uri": "https://localhost:8080/",
     "height": 566
    },
    "executionInfo": {
     "elapsed": 488,
     "status": "ok",
     "timestamp": 1689019787789,
     "user": {
      "displayName": "Gero salda",
      "userId": "06132389852214017868"
     },
     "user_tz": 300
    },
    "id": "ka3V1a7UbHag",
    "outputId": "92e5cbcc-2992-4c99-92fd-7d43f7d724d1"
   },
   "outputs": [
    {
     "data": {
      "image/png": "[encoded data removed]",
      "text/plain": [
       "<Figure size 1000x600 with 1 Axes>"
      ]
     },
     "metadata": {},
     "output_type": "display_data"
    }
   ],
   "source": [
    "\n"
   ]
  }
 ],
 "metadata": {
  "colab": {
   "authorship_tag": "ABX9TyPt27tolXtDntPX31MRUzHX",
   "provenance": []
  },
  "kernelspec": {
   "display_name": "Python 3",
   "name": "python3"
  },
  "language_info": {
   "name": "python"
  }
 },
 "nbformat": 4,
 "nbformat_minor": 0
}
